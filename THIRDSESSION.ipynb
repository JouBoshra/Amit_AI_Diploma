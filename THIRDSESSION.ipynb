{
 "cells": [
  {
   "cell_type": "markdown",
   "id": "a556df90",
   "metadata": {},
   "source": []
  },
  {
   "cell_type": "markdown",
   "id": "5d65d206",
   "metadata": {},
   "source": [
    "#### <span style=\"color: green; text-decoration: underline;\">**the Loops**</span>\n",
    "<img style=\"font-size: .2rem;\"\n",
    "    src=\"./pngtree-refresh-flat-eco-green-color-icon-transaction-connect-isolated-vector-png-image_19939936.png\"\n",
    "    alt=\"the loop image\">\n",
    "\n",
    "#### <ol style=\"color: greenyellow; font-style:italic;\">\n",
    "#### <p> examples of the points below </p>\n",
    " <b>points to clear :- </b>\n",
    "  <li>break</li>\n",
    "  <li>continue</li>\n",
    "  <li>pass ==> egnore somthing from block of code </li>\n",
    "  <li>while loop </li>\n",
    "\n",
    "</ol>\n"
   ]
  },
  {
   "cell_type": "markdown",
   "id": "b310c90e",
   "metadata": {},
   "source": []
  },
  {
   "cell_type": "code",
   "execution_count": 3,
   "id": "7d0232ee",
   "metadata": {},
   "outputs": [
    {
     "name": "stdout",
     "output_type": "stream",
     "text": [
      "A\n",
      "M\n",
      "I\n",
      "T\n"
     ]
    }
   ],
   "source": [
    "for x in \"AMIT\":\n",
    "    print(x) "
   ]
  },
  {
   "cell_type": "code",
   "execution_count": 16,
   "id": "19a1bccc",
   "metadata": {},
   "outputs": [
    {
     "name": "stdout",
     "output_type": "stream",
     "text": [
      "apple\n",
      "lemon\n",
      "juise\n",
      "bannana\n",
      "the loops is ended\n"
     ]
    }
   ],
   "source": [
    "fruits = [\"apple\",\"lemon\",\"juise\",\"bannana\"]\n",
    "for fruit in fruits : \n",
    "    print (fruit)\n",
    "else : \n",
    "    print('the loops is ended')"
   ]
  },
  {
   "cell_type": "code",
   "execution_count": 18,
   "id": "0c101255",
   "metadata": {},
   "outputs": [
    {
     "name": "stdout",
     "output_type": "stream",
     "text": [
      "0\n",
      "1\n",
      "2\n",
      "3\n",
      "4\n",
      "5\n",
      "6\n",
      "7\n",
      "8\n",
      "9\n"
     ]
    }
   ],
   "source": [
    "for index in range(10):\n",
    "    print(index)"
   ]
  },
  {
   "cell_type": "code",
   "execution_count": 29,
   "id": "602d20e9",
   "metadata": {},
   "outputs": [
    {
     "name": "stdout",
     "output_type": "stream",
     "text": [
      "fruit\n",
      "the results will appear\n",
      "banana\n",
      "the results will appear\n",
      "apple\n",
      "lemon\n",
      "the results will appear\n"
     ]
    }
   ],
   "source": [
    "fruits = ['fruit','banana','apple','lemon']\n",
    "for i in fruits : \n",
    "    print (i)\n",
    "    if i == 'apple' : \n",
    "        pass\n",
    "    else :\n",
    "        print('the results will appear')\n"
   ]
  },
  {
   "cell_type": "code",
   "execution_count": 28,
   "id": "90f898a0",
   "metadata": {},
   "outputs": [
    {
     "name": "stdout",
     "output_type": "stream",
     "text": [
      "fruit cola\n",
      "fruit pepsi\n",
      "fruit fayrouz\n",
      "fruit bali\n",
      "banana cola\n",
      "banana pepsi\n",
      "banana fayrouz\n",
      "banana bali\n",
      "apple cola\n",
      "apple pepsi\n",
      "apple fayrouz\n",
      "apple bali\n",
      "lemon cola\n",
      "lemon pepsi\n",
      "lemon fayrouz\n",
      "lemon bali\n"
     ]
    }
   ],
   "source": [
    "fruits = ['fruit','banana','apple','lemon']\n",
    "beverage = ['cola','pepsi','fayrouz','bali']\n",
    "for x in fruits : \n",
    "    for y in beverage : \n",
    "        print ( x,y)\n"
   ]
  },
  {
   "cell_type": "code",
   "execution_count": 32,
   "id": "d2f8ce10",
   "metadata": {},
   "outputs": [
    {
     "name": "stdout",
     "output_type": "stream",
     "text": [
      "0\n",
      "1\n",
      "3\n",
      "4\n"
     ]
    }
   ],
   "source": [
    "for i in range(5):\n",
    "    if i == 2:\n",
    "        pass\n",
    "    else : \n",
    "        print(i)"
   ]
  },
  {
   "cell_type": "code",
   "execution_count": 45,
   "id": "82b64ca7",
   "metadata": {},
   "outputs": [
    {
     "name": "stdout",
     "output_type": "stream",
     "text": [
      "5\n",
      "4\n",
      "3\n",
      "2\n",
      "1\n",
      "0\n"
     ]
    }
   ],
   "source": [
    "x= 6 \n",
    "while x > 0 : \n",
    "    x-=1\n",
    "    print (x)\n",
    "    \n",
    "\n"
   ]
  },
  {
   "cell_type": "markdown",
   "id": "7259df58",
   "metadata": {},
   "source": [
    "#### <span style=\"color: green; text-decoration: underline;\">**function**</span>\n",
    "<img style=\"font-size:3px ;\"\n",
    "    src=\"./Functions-and-Types-of-Functions-01.png\"\n",
    "    alt=\"the loop image\">\n",
    "\n",
    "#### <ol style=\"color: greenyellow; font-style:italic;\">\n",
    "#### <p> examples of the points below </p>\n",
    " <b>points to clear :- </b>\n",
    "  <li>built in function</li>\n",
    "  <li>creating a function </li>\n",
    "  <li> positional arguments</li>\n",
    "  <li> definition and implementation</li>\n",
    "  <li>default argue function </li>\n",
    "  <li>default values could not be exist in the end of the sentences</li>\n",
    "  <li>varadic argue function</li>\n",
    "  <li>kwargs argue function </li>\n",
    "  <li></li>\n",
    "  <li></li>\n",
    "  <li></li>\n",
    "  <li></li>\n",
    "  <li></li>\n",
    "  <li></li>\n",
    "\n",
    "</ol>\n"
   ]
  },
  {
   "cell_type": "code",
   "execution_count": 28,
   "id": "e8b213b5",
   "metadata": {},
   "outputs": [],
   "source": [
    "def info_std(name , age) :\n",
    "    print(f\"my name is {name} and my age is {age}\")"
   ]
  },
  {
   "cell_type": "code",
   "execution_count": null,
   "id": "859254b2",
   "metadata": {},
   "outputs": [
    {
     "name": "stdout",
     "output_type": "stream",
     "text": [
      "my name is youssef and my age is 222\n"
     ]
    }
   ],
   "source": [
    "info_std(name = str(input('write you name '))\n",
    "  , age =  int(input('write you age '))) "
   ]
  },
  {
   "cell_type": "code",
   "execution_count": null,
   "id": "cf096120",
   "metadata": {},
   "outputs": [
    {
     "name": "stdout",
     "output_type": "stream",
     "text": [
      "my name is ('youssef', 'ahmed', 'ali')\n"
     ]
    }
   ],
   "source": [
    "def info_std(*name):\n",
    "    print(f\"my name is {name}\")\n",
    "info_std('youssef','ahmed','ali')\n"
   ]
  },
  {
   "cell_type": "code",
   "execution_count": null,
   "id": "67592334",
   "metadata": {},
   "outputs": [
    {
     "ename": "TypeError",
     "evalue": "info_std() takes 1 positional argument but 3 were given",
     "output_type": "error",
     "traceback": [
      "\u001b[31m---------------------------------------------------------------------------\u001b[39m",
      "\u001b[31mTypeError\u001b[39m                                 Traceback (most recent call last)",
      "\u001b[36mCell\u001b[39m\u001b[36m \u001b[39m\u001b[32mIn[20]\u001b[39m\u001b[32m, line 1\u001b[39m\n\u001b[32m----> \u001b[39m\u001b[32m1\u001b[39m \u001b[43minfo_std\u001b[49m\u001b[43m(\u001b[49m\u001b[33;43m'\u001b[39;49m\u001b[33;43myoussef\u001b[39;49m\u001b[33;43m'\u001b[39;49m\u001b[43m,\u001b[49m\u001b[33;43m'\u001b[39;49m\u001b[33;43mahmed\u001b[39;49m\u001b[33;43m'\u001b[39;49m\u001b[43m,\u001b[49m\u001b[33;43m'\u001b[39;49m\u001b[33;43mali\u001b[39;49m\u001b[33;43m'\u001b[39;49m\u001b[43m)\u001b[49m\n",
      "\u001b[31mTypeError\u001b[39m: info_std() takes 1 positional argument but 3 were given"
     ]
    }
   ],
   "source": []
  },
  {
   "cell_type": "code",
   "execution_count": null,
   "id": "9ff54f27",
   "metadata": {},
   "outputs": [],
   "source": []
  }
 ],
 "metadata": {
  "kernelspec": {
   "display_name": ".env",
   "language": "python",
   "name": "python3"
  },
  "language_info": {
   "codemirror_mode": {
    "name": "ipython",
    "version": 3
   },
   "file_extension": ".py",
   "mimetype": "text/x-python",
   "name": "python",
   "nbconvert_exporter": "python",
   "pygments_lexer": "ipython3",
   "version": "3.12.7"
  }
 },
 "nbformat": 4,
 "nbformat_minor": 5
}
