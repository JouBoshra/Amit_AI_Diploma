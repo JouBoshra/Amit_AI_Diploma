{
 "cells": [
  {
   "cell_type": "markdown",
   "id": "c6e70c53",
   "metadata": {},
   "source": [
    "### **first Session From the session With MR George**\n",
    "### **the fist session Basic Python**"
   ]
  },
  {
   "cell_type": "code",
   "execution_count": 1,
   "id": "4ef7fefd",
   "metadata": {},
   "outputs": [
    {
     "name": "stdout",
     "output_type": "stream",
     "text": [
      "HEllo WOrld\n"
     ]
    }
   ],
   "source": [
    "print('HEllo WOrld')"
   ]
  },
  {
   "cell_type": "markdown",
   "id": "6bb9fc7a",
   "metadata": {},
   "source": [
    "### **==PUSH==**\n",
    "#### **GitHub ==> git ==> vsCode**\n",
    "#### **commit ==> sync ==> GitHub**\n",
    "#### **Print function**\n",
    "#### **1.debugging**\n"
   ]
  },
  {
   "cell_type": "code",
   "execution_count": 9,
   "id": "d177b9b8",
   "metadata": {},
   "outputs": [
    {
     "name": "stdout",
     "output_type": "stream",
     "text": [
      " My Age is ,24\n"
     ]
    }
   ],
   "source": [
    "print(' My Age is ,24' )\n",
    "# to make a comment you can press in command+/"
   ]
  },
  {
   "cell_type": "markdown",
   "id": "b8a91b03",
   "metadata": {},
   "source": [
    "N"
   ]
  },
  {
   "cell_type": "markdown",
   "id": "14498e1e",
   "metadata": {},
   "source": [
    "#### **Main DataTypes**\n",
    "##### **Built in function like ==> print() && User Defined Function**\n"
   ]
  },
  {
   "cell_type": "markdown",
   "id": "631e783a",
   "metadata": {},
   "source": [
    "## **Comments**\n",
    "## **Google Style Mood**\n"
   ]
  },
  {
   "cell_type": "code",
   "execution_count": 6,
   "id": "40b0ca98",
   "metadata": {},
   "outputs": [
    {
     "data": {
      "text/plain": [
       "'\\n\\n123 and space and enter \\n\\n'"
      ]
     },
     "execution_count": 6,
     "metadata": {},
     "output_type": "execute_result"
    }
   ],
   "source": [
    "# to write a block of comments \n",
    "\n",
    "'''\n",
    "\n",
    "123 and space and enter \n",
    "\n",
    "'''"
   ]
  },
  {
   "cell_type": "code",
   "execution_count": 10,
   "id": "6a2d7f84",
   "metadata": {},
   "outputs": [
    {
     "data": {
      "text/plain": [
       "'\\n\\nprint(5)\\n\\n'"
      ]
     },
     "execution_count": 10,
     "metadata": {},
     "output_type": "execute_result"
    }
   ],
   "source": [
    "'''\n",
    "\n",
    "print(5)\n",
    "\n",
    "'''"
   ]
  },
  {
   "cell_type": "markdown",
   "id": "e54f6595",
   "metadata": {},
   "source": [
    "## **variables** "
   ]
  },
  {
   "cell_type": "code",
   "execution_count": 20,
   "id": "9cd0fbb4",
   "metadata": {},
   "outputs": [
    {
     "name": "stdout",
     "output_type": "stream",
     "text": [
      "0x104821f90\n",
      "0x104de42a0\n",
      "<class 'int'>\n",
      "<class 'str'>\n"
     ]
    }
   ],
   "source": [
    "x = 5 \n",
    "X = \"15\"\n",
    "print(hex(id(x)))\n",
    "print(hex(id(X)))\n",
    "print(type(x))\n",
    "print(type(X))\n"
   ]
  },
  {
   "cell_type": "markdown",
   "id": "93533ba9",
   "metadata": {},
   "source": [
    "## **Formate**"
   ]
  },
  {
   "cell_type": "code",
   "execution_count": null,
   "id": "84eca902",
   "metadata": {},
   "outputs": [
    {
     "name": "stdout",
     "output_type": "stream",
     "text": [
      "my name is  youssef ,and my age is 20 and the course name is : AI & Machine learing \n"
     ]
    }
   ],
   "source": [
    "name = ' youssef '\n",
    "age= input('enter your Age')\n",
    "courseName = input(str('write your course name'))\n",
    "print(f'my name is {name},and my age is {age} and the course name is : {courseName}')"
   ]
  },
  {
   "cell_type": "code",
   "execution_count": null,
   "id": "91440f81",
   "metadata": {},
   "outputs": [
    {
     "name": "stdout",
     "output_type": "stream",
     "text": [
      "5\n"
     ]
    },
    {
     "data": {
      "text/plain": [
       "20"
      ]
     },
     "execution_count": 33,
     "metadata": {},
     "output_type": "execute_result"
    }
   ],
   "source": [
    "x = 5 \n",
    "print (x)\n",
    "y=20\n",
    "y\n",
    "print('George')"
   ]
  },
  {
   "cell_type": "code",
   "execution_count": 1,
   "id": "4f46d41c",
   "metadata": {},
   "outputs": [
    {
     "name": "stdout",
     "output_type": "stream",
     "text": [
      "24\n"
     ]
    }
   ],
   "source": [
    "num1 = int(input(\"enter number one \"))\n",
    "num2 = int(input(\"enter number two \"))\n",
    "print(num1 + num2)"
   ]
  },
  {
   "cell_type": "code",
   "execution_count": null,
   "id": "f0710c68",
   "metadata": {},
   "outputs": [],
   "source": []
  }
 ],
 "metadata": {
  "kernelspec": {
   "display_name": ".env",
   "language": "python",
   "name": "python3"
  },
  "language_info": {
   "codemirror_mode": {
    "name": "ipython",
    "version": 3
   },
   "file_extension": ".py",
   "mimetype": "text/x-python",
   "name": "python",
   "nbconvert_exporter": "python",
   "pygments_lexer": "ipython3",
   "version": "3.12.7"
  }
 },
 "nbformat": 4,
 "nbformat_minor": 5
}
